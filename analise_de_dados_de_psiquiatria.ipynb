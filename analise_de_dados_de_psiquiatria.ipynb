{
  "nbformat": 4,
  "nbformat_minor": 0,
  "metadata": {
    "colab": {
      "name": "analise de dados de psiquiatria.ipynb",
      "provenance": [],
      "mount_file_id": "18geRBPm1kQKUp4O3HU4nFFPAaltRrJtI",
      "authorship_tag": "ABX9TyNSGHLW5DKfmJLOa0aE3cmp",
      "include_colab_link": true
    },
    "kernelspec": {
      "name": "python3",
      "display_name": "Python 3"
    }
  },
  "cells": [
    {
      "cell_type": "markdown",
      "metadata": {
        "id": "view-in-github",
        "colab_type": "text"
      },
      "source": [
        "<a href=\"https://colab.research.google.com/github/matheusamorim/spark/blob/main/analise_de_dados_de_psiquiatria.ipynb\" target=\"_parent\"><img src=\"https://colab.research.google.com/assets/colab-badge.svg\" alt=\"Open In Colab\"/></a>"
      ]
    },
    {
      "cell_type": "code",
      "metadata": {
        "id": "6-Iq5OrfS63N"
      },
      "source": [
        "from pyspark.sql.functions import datediff, to_date, lit\n",
        "from pyspark.sql import functions as F\n"
      ],
      "execution_count": 66,
      "outputs": []
    },
    {
      "cell_type": "code",
      "metadata": {
        "id": "TJdv33QHUelP",
        "colab": {
          "base_uri": "https://localhost:8080/"
        },
        "outputId": "8b273f38-db4d-4167-b2eb-a107c0bf7efb"
      },
      "source": [
        "!apt-get install openjdk-8-jdk-headless -qq > /dev/null\n",
        "!wget https://downloads.apache.org/spark/spark-3.0.1/spark-3.0.1-bin-hadoop2.7.tgz\n",
        "!tar xf spark-3.0.1-bin-hadoop2.7.tgz\n",
        "!pip install -q findspark\n",
        "!pip install -q pyspark\n",
        "!pip install  mmlspark \n",
        "\n",
        "import os\n",
        "import mmlspark\n",
        "import findspark\n",
        "import pandas as pd\n",
        "os.environ[\"JAVA_HOME\"] = \"/usr/lib/jvm/java-8-openjdk-amd64\"\n",
        "os.environ[\"SPARK_HOME\"] = \"/content/spark-3.0.1-bin-hadoop2.7\"\n",
        "\n",
        "findspark.init()\n",
        "from pyspark.sql import SparkSession\n",
        "spark = SparkSession.builder.master(\"local[*]\").getOrCreate()"
      ],
      "execution_count": 2,
      "outputs": [
        {
          "output_type": "stream",
          "text": [
            "--2020-11-18 12:53:54--  https://downloads.apache.org/spark/spark-3.0.1/spark-3.0.1-bin-hadoop2.7.tgz\n",
            "Resolving downloads.apache.org (downloads.apache.org)... 88.99.95.219, 2a01:4f8:10a:201a::2\n",
            "Connecting to downloads.apache.org (downloads.apache.org)|88.99.95.219|:443... connected.\n",
            "HTTP request sent, awaiting response... 200 OK\n",
            "Length: 219929956 (210M) [application/x-gzip]\n",
            "Saving to: ‘spark-3.0.1-bin-hadoop2.7.tgz’\n",
            "\n",
            "spark-3.0.1-bin-had 100%[===================>] 209.74M  10.9MB/s    in 22s     \n",
            "\n",
            "2020-11-18 12:54:17 (9.63 MB/s) - ‘spark-3.0.1-bin-hadoop2.7.tgz’ saved [219929956/219929956]\n",
            "\n",
            "\u001b[K     |████████████████████████████████| 204.2MB 49kB/s \n",
            "\u001b[K     |████████████████████████████████| 204kB 31.6MB/s \n",
            "\u001b[?25h  Building wheel for pyspark (setup.py) ... \u001b[?25l\u001b[?25hdone\n",
            "Collecting mmlspark\n",
            "\u001b[?25l  Downloading https://files.pythonhosted.org/packages/9c/51/5db9a8efdb7f05b45c8054f62d9198414426ad31be9bf8977a4ea2fdb1ed/mmlspark-0.0.11111111.tar.gz (4.2MB)\n",
            "\u001b[K     |████████████████████████████████| 4.2MB 4.2MB/s \n",
            "\u001b[?25hRequirement already satisfied: pyspark in /usr/local/lib/python3.6/dist-packages (from mmlspark) (3.0.1)\n",
            "Requirement already satisfied: numpy in /usr/local/lib/python3.6/dist-packages (from mmlspark) (1.18.5)\n",
            "Requirement already satisfied: py4j==0.10.9 in /usr/local/lib/python3.6/dist-packages (from pyspark->mmlspark) (0.10.9)\n",
            "Building wheels for collected packages: mmlspark\n",
            "  Building wheel for mmlspark (setup.py) ... \u001b[?25l\u001b[?25hdone\n",
            "  Created wheel for mmlspark: filename=mmlspark-0.0.11111111-cp36-none-any.whl size=4184588 sha256=0ba1c360dc26d0265cb2503be3f0747aff6a72ca29b57a2304ea9c5b356124b2\n",
            "  Stored in directory: /root/.cache/pip/wheels/84/06/e7/b3fd219ede2a882f027315ddd85bfb64cbb91cc7375d3db959\n",
            "Successfully built mmlspark\n",
            "Installing collected packages: mmlspark\n",
            "Successfully installed mmlspark-0.0.11111111\n"
          ],
          "name": "stdout"
        }
      ]
    },
    {
      "cell_type": "code",
      "metadata": {
        "id": "JG0YoWVLWWCC"
      },
      "source": [
        "df = spark.read.csv(\"/content/drive/MyDrive/dados/GO HOSP/2019_HOSP_det.csv\", header=True, sep=\",\")"
      ],
      "execution_count": 3,
      "outputs": []
    },
    {
      "cell_type": "code",
      "metadata": {
        "id": "RaNZ3w7ac-ha"
      },
      "source": [
        "df2 = spark.read.csv(\"/content/drive/MyDrive/dados/GO HOSP/2019_HOSP_cons.csv\", header=True, sep=',')"
      ],
      "execution_count": 6,
      "outputs": []
    },
    {
      "cell_type": "code",
      "metadata": {
        "colab": {
          "base_uri": "https://localhost:8080/"
        },
        "id": "FyM6UOgAbtTG",
        "outputId": "ccbbebc6-b4b3-4f66-c0f4-2f650b13baf8"
      },
      "source": [
        "df2.show()"
      ],
      "execution_count": 8,
      "outputs": [
        {
          "output_type": "stream",
          "text": [
            "+----------+--------+------------------+-----------------+---------------------+---------------+-----------------------+--------------------+------------------+------------+-------------+-------------------+-------------------+---------------+-----------------+-------------------+-----+-----+-----+-----+-----------------------+--------------+------------------------+----------+\n",
            "| ID_EVENTO|ID_PLANO|IDADE_BENEFICIARIO|SEXO_BENEFICIARIO|CD_MUNIC_BENEFICIARIO|PORTE_OPERADORA|CD_MODALIDADE_OPERADORA|MODALIDADE_OPERADORA|CD_MUNIC_PRESTADOR|UF_PRESTADOR|DT_INTERNACAO|DT_SAIDA_INTERNACAO|CARATER_ATENDIMENTO|TIPO_INTERNACAO|REGIME_INTERNACAO|MOTIVO_ENCERRAMENTO|CID_1|CID_2|CID_3|CID_4|NR_DIARIAS_ACOMPANHANTE|NR_DIARIAS_UTI|LG_VALOR_PREESTABELECIDO|LG_OUTLIER|\n",
            "+----------+--------+------------------+-----------------+---------------------+---------------+-----------------------+--------------------+------------------+------------+-------------+-------------------+-------------------+---------------+-----------------+-------------------+-----+-----+-----+-----+-----------------------+--------------+------------------------+----------+\n",
            "|2781230901|  101862|              81.0|                M|             521380.0|        PEQUENO|                     24|          Autogest�o|            520870|          GO|   01/09/2019|         17/09/2019|                  E|            1.0|              3.0|               18.0|  G45| null| null| null|                      0|             0|                       0|         0|\n",
            "|2749934522|   68946|              87.0|                F|             521190.0|         GRANDE|                     24|          Autogest�o|            520870|          GO|   01/09/2019|         30/09/2019|                  1|            1.0|              3.0|               21.0|  F03| null| null| null|                      0|             0|                       0|         0|\n",
            "|2892204869|  109036|              72.0|                F|             520110.0|          MEDIO|                     24|          Autogest�o|            520110|          GO|   01/09/2019|         14/09/2019|                  1|            1.0|              1.0|               21.0| null| null| null| null|                      0|             0|                       0|         0|\n",
            "|2890975326|   10168|              23.0|                F|             520110.0|          MEDIO|                     22|  Cooperativa M�dica|            520110|          GO|   01/09/2019|         09/09/2019|                  2|            1.0|              1.0|               12.0|  Z51| null| null| null|                      0|             0|                       0|         0|\n",
            "|2996265413|  107605|              null|             null|                 null|         GRANDE|                     25|   Medicina De Grupo|            520870|          GO|   01/09/2019|         03/09/2019|                  2|            4.0|              1.0|               12.0| J019| null| null| null|                      0|             0|                       0|         0|\n",
            "|2813482339|   91957|              27.0|                F|             520340.0|         GRANDE|                     25|   Medicina De Grupo|            521310|          GO|   01/09/2019|         03/09/2019|                  1|            2.0|              1.0|               12.0| null| null| null| null|                      0|             0|                       0|         0|\n",
            "|2892204861|  109036|              72.0|                F|             520110.0|          MEDIO|                     24|          Autogest�o|            520110|          GO|   01/09/2019|         14/09/2019|                  1|            1.0|              1.0|               21.0| null| null| null| null|                      0|             0|                       0|         1|\n",
            "|2881075805|  104863|               2.0|                F|             520870.0|         GRANDE|                     24|          Autogest�o|            520870|          GO|   01/09/2019|         05/09/2019|                  2|            4.0|              1.0|               12.0|  J15| null| null| null|                      0|             0|                       0|         0|\n",
            "|2855172397|   88018|              61.0|                M|             520215.0|        PEQUENO|                     24|          Autogest�o|            520870|          GO|   01/09/2019|         30/11/2019|                  2|            1.0|              1.0|               12.0| null| null| null| null|                      0|             0|                       0|         0|\n",
            "|2903569683|  126879|              31.0|                F|             520870.0|         GRANDE|                     25|   Medicina De Grupo|            520870|          GO|   01/09/2019|         03/09/2019|                  2|            3.0|              1.0|               12.0| O820| null| null| null|                      0|             0|                       0|         0|\n",
            "|2892204845|  109036|              72.0|                F|             520110.0|          MEDIO|                     24|          Autogest�o|            520110|          GO|   01/09/2019|         14/09/2019|                  1|            1.0|              1.0|               21.0| null| null| null| null|                      0|             0|                       0|         0|\n",
            "|2749950328|   68946|              65.0|                M|             520870.0|         GRANDE|                     24|          Autogest�o|            520870|          GO|   01/09/2019|         30/09/2019|                  1|            1.0|              3.0|               21.0| M348| null| null| null|                      0|             0|                       0|         0|\n",
            "|2933038329|  122213|              34.0|                M|             520870.0|         GRANDE|                     28|Seguradora Especi...|            520870|          GO|   01/09/2019|         05/09/2019|                  1|            1.0|              1.0|               12.0| N200|  N23| null| null|                      0|             0|                       0|         0|\n",
            "|2749950325|  104863|              94.0|                F|             520870.0|         GRANDE|                     24|          Autogest�o|            520870|          GO|   01/09/2019|         04/09/2019|                  1|            1.0|              3.0|               43.0|  G30| null| null| null|                      0|             0|                       0|         0|\n",
            "|2755498919|   64705|              84.0|                M|             521880.0|          MEDIO|                     22|  Cooperativa M�dica|            521880|          GO|   01/09/2019|         19/09/2019|                  2|            1.0|              1.0|               12.0| R509| null| null| null|                      0|             0|                       0|         0|\n",
            "|2793017469|   86138|               2.0|                F|             520055.0|          MEDIO|                     22|  Cooperativa M�dica|            521280|          GO|   01/09/2019|         03/09/2019|                  1|            1.0|              1.0|               12.0|  A09| null| null| null|                      0|             0|                       0|         0|\n",
            "|2892204859|  109036|              72.0|                F|             520110.0|          MEDIO|                     24|          Autogest�o|            520110|          GO|   01/09/2019|         14/09/2019|                  1|            1.0|              1.0|               21.0| null| null| null| null|                      0|             0|                       0|         0|\n",
            "|2811613819|   52884|              47.0|                F|             521460.0|         GRANDE|                     22|  Cooperativa M�dica|            520870|          GO|   01/09/2019|         02/09/2019|                  2|            1.0|              1.0|               11.0|  R51| null| null| null|                      0|             0|                       0|         0|\n",
            "|2871141866|  108207|              91.0|                F|             520870.0|         GRANDE|                     24|          Autogest�o|            520870|          GO|   01/09/2019|         30/09/2019|                  1|            1.0|              3.0|               51.0| G301| null| null| null|                      0|             0|                       0|         0|\n",
            "|2826446478|  119082|              35.0|                F|             520870.0|         GRANDE|                     24|          Autogest�o|            520870|          GO|   01/09/2019|         03/09/2019|                  2|            1.0|              1.0|               12.0| null| null| null| null|                      0|             0|                       0|         0|\n",
            "+----------+--------+------------------+-----------------+---------------------+---------------+-----------------------+--------------------+------------------+------------+-------------+-------------------+-------------------+---------------+-----------------+-------------------+-----+-----+-----+-----+-----------------------+--------------+------------------------+----------+\n",
            "only showing top 20 rows\n",
            "\n"
          ],
          "name": "stdout"
        }
      ]
    },
    {
      "cell_type": "code",
      "metadata": {
        "id": "dF1BH7rubRwX"
      },
      "source": [
        "df.createOrReplaceTempView(\"df\")\n",
        "df2.createOrReplaceTempView(\"df2\")"
      ],
      "execution_count": 9,
      "outputs": []
    },
    {
      "cell_type": "code",
      "metadata": {
        "colab": {
          "base_uri": "https://localhost:8080/"
        },
        "id": "YB8qtSVVbnMS",
        "outputId": "018a1e14-a213-492d-d9aa-50d669179f3b"
      },
      "source": [
        "spark.sql(\"select * from df2 where TIPO_INTERNACAO = 5.0\").show()"
      ],
      "execution_count": 10,
      "outputs": [
        {
          "output_type": "stream",
          "text": [
            "+----------+--------+------------------+-----------------+---------------------+---------------+-----------------------+--------------------+------------------+------------+-------------+-------------------+-------------------+---------------+-----------------+-------------------+-----+-----+-----+-----+-----------------------+--------------+------------------------+----------+\n",
            "| ID_EVENTO|ID_PLANO|IDADE_BENEFICIARIO|SEXO_BENEFICIARIO|CD_MUNIC_BENEFICIARIO|PORTE_OPERADORA|CD_MODALIDADE_OPERADORA|MODALIDADE_OPERADORA|CD_MUNIC_PRESTADOR|UF_PRESTADOR|DT_INTERNACAO|DT_SAIDA_INTERNACAO|CARATER_ATENDIMENTO|TIPO_INTERNACAO|REGIME_INTERNACAO|MOTIVO_ENCERRAMENTO|CID_1|CID_2|CID_3|CID_4|NR_DIARIAS_ACOMPANHANTE|NR_DIARIAS_UTI|LG_VALOR_PREESTABELECIDO|LG_OUTLIER|\n",
            "+----------+--------+------------------+-----------------+---------------------+---------------+-----------------------+--------------------+------------------+------------+-------------+-------------------+-------------------+---------------+-----------------+-------------------+-----+-----+-----+-----+-----------------------+--------------+------------------------+----------+\n",
            "|2750116459|   68946|              45.0|                M|             520870.0|         GRANDE|                     24|          Autogest�o|            520140|          GO|   01/09/2019|         15/10/2019|                  2|            5.0|              1.0|               12.0| F316| null| null| null|                      0|             0|                       0|         0|\n",
            "|2874098133|  111179|              25.0|                F|             522045.0|         GRANDE|                     22|  Cooperativa M�dica|            520870|          GO|   01/09/2019|         02/09/2019|                  1|            5.0|              1.0|               11.0|  F31| null| null| null|                      0|             0|                       0|         0|\n",
            "|2880573124|  640153|              17.0|                F|             520870.0|         GRANDE|                     25|   Medicina De Grupo|            520870|          GO|   02/09/2019|         10/09/2019|                  2|            5.0|              1.0|               12.0|  F32| null| null| null|                      0|             0|                       0|         0|\n",
            "|2874098134|  111179|              25.0|                F|             522045.0|         GRANDE|                     22|  Cooperativa M�dica|            520870|          GO|   02/09/2019|         06/09/2019|                  1|            5.0|              1.0|               11.0|  F31| null| null| null|                      0|             0|                       0|         0|\n",
            "|2811080947|  111179|              28.0|                M|             522045.0|         GRANDE|                     22|  Cooperativa M�dica|            520870|          GO|   04/09/2019|         05/09/2019|                  1|            5.0|              1.0|               11.0| F312| null| null| null|                      0|             0|                       0|         0|\n",
            "|2922547085|   65366|              49.0|                M|             520870.0|         GRANDE|                     24|          Autogest�o|            520870|          GO|   04/09/2019|         03/10/2019|                  2|            5.0|              1.0|               21.0| null| null| null| null|                      0|             0|                       0|         0|\n",
            "|2795057771|   10168|              24.0|                F|             520110.0|          MEDIO|                     22|  Cooperativa M�dica|            520110|          GO|   04/09/2019|         27/09/2019|                  2|            5.0|              1.0|               12.0| F314| null| null| null|                      0|             0|                       0|         0|\n",
            "|2811052502|  111179|              43.0|                M|             520870.0|         GRANDE|                     22|  Cooperativa M�dica|            520870|          GO|   05/09/2019|         10/09/2019|                  1|            5.0|              1.0|               11.0|  F33| null| null| null|                      0|             0|                       0|         0|\n",
            "|2750163508|   68946|              50.0|                M|             317010.0|         GRANDE|                     24|          Autogest�o|            520140|          GO|   05/09/2019|         18/10/2019|                  2|            5.0|              1.0|               12.0| F200| null| null| null|                      0|             0|                       0|         0|\n",
            "|2874098135|  111179|              25.0|                F|             522045.0|         GRANDE|                     22|  Cooperativa M�dica|            520870|          GO|   07/09/2019|         13/09/2019|                  1|            5.0|              2.0|               11.0|  F31| null| null| null|                      0|             0|                       0|         0|\n",
            "|2892097441|  105135|              40.0|                F|             110028.0|          MEDIO|                     22|  Cooperativa M�dica|            520870|          GO|   07/09/2019|         16/10/2019|                  1|            5.0|              1.0|               51.0| F200| null| null| null|                      0|             0|                       0|         0|\n",
            "|2996232110|  107606|              48.0|                F|             520870.0|         GRANDE|                     25|   Medicina De Grupo|            520870|          GO|   09/09/2019|         25/09/2019|                  1|            5.0|              1.0|               12.0| F311| null| null| null|                      0|             0|                       0|         1|\n",
            "|2885618723|   94638|              22.0|                M|             520870.0|          MEDIO|                     25|   Medicina De Grupo|            520870|          GO|   09/09/2019|         15/09/2019|                  2|            5.0|              1.0|               14.0| F322| null| null| null|                      0|             0|                       0|         0|\n",
            "|2899027809|   86138|              21.0|                F|             521890.0|          MEDIO|                     22|  Cooperativa M�dica|            520870|          GO|   09/09/2019|         22/09/2019|                  1|            5.0|              1.0|               12.0|  F31| null| null| null|                      0|             0|                       0|         0|\n",
            "|2846088048|   18533|              32.0|                F|             520870.0|        PEQUENO|                     24|          Autogest�o|            520870|          GO|   09/09/2019|         23/09/2019|                  2|            5.0|              1.0|               12.0|  F31| null| null| null|                      0|             0|                       0|         0|\n",
            "|2844576147|  104863|              32.0|                F|             510180.0|         GRANDE|                     24|          Autogest�o|            520870|          GO|   10/09/2019|         29/09/2019|                  2|            5.0|              1.0|               12.0| F140| null| null| null|                      0|             0|                       0|         0|\n",
            "|2996105978|  107605|              39.0|                F|             520870.0|         GRANDE|                     25|   Medicina De Grupo|            520870|          GO|   11/09/2019|         10/10/2019|                  2|            5.0|              1.0|               12.0|  F32| null| null| null|                      0|             0|                       0|         0|\n",
            "|2892103590|  102880|              18.0|                M|             110012.0|          MEDIO|                     22|  Cooperativa M�dica|            520870|          GO|   11/09/2019|         28/09/2019|                  1|            5.0|              1.0|               12.0|  F31| null| null| null|                      0|             0|                       0|         0|\n",
            "|2938952092|  111181|              48.0|                F|             520870.0|         GRANDE|                     22|  Cooperativa M�dica|            520870|          GO|   11/09/2019|         26/09/2019|                  2|            5.0|              2.0|               12.0|  F31| null| null| null|                      0|             0|                       0|         0|\n",
            "|2996105980|  121710|              28.0|                F|             520870.0|         GRANDE|                     25|   Medicina De Grupo|            520870|          GO|   11/09/2019|         15/09/2019|                  2|            5.0|              1.0|               14.0|  F31| null| null| null|                      0|             0|                       0|         0|\n",
            "+----------+--------+------------------+-----------------+---------------------+---------------+-----------------------+--------------------+------------------+------------+-------------+-------------------+-------------------+---------------+-----------------+-------------------+-----+-----+-----+-----+-----------------------+--------------+------------------------+----------+\n",
            "only showing top 20 rows\n",
            "\n"
          ],
          "name": "stdout"
        }
      ]
    },
    {
      "cell_type": "code",
      "metadata": {
        "colab": {
          "base_uri": "https://localhost:8080/"
        },
        "id": "9nErxGN-pGQ9",
        "outputId": "d92a3bd0-c696-49f2-8b32-9f1aae5e6624"
      },
      "source": [
        "spark.sql(\"select DT_INTERNACAO, DT_SAIDA_INTERNACAO from df2\").show()"
      ],
      "execution_count": 37,
      "outputs": [
        {
          "output_type": "stream",
          "text": [
            "+-------------+-------------------+\n",
            "|DT_INTERNACAO|DT_SAIDA_INTERNACAO|\n",
            "+-------------+-------------------+\n",
            "|   01/09/2019|         17/09/2019|\n",
            "|   01/09/2019|         30/09/2019|\n",
            "|   01/09/2019|         14/09/2019|\n",
            "|   01/09/2019|         09/09/2019|\n",
            "|   01/09/2019|         03/09/2019|\n",
            "|   01/09/2019|         03/09/2019|\n",
            "|   01/09/2019|         14/09/2019|\n",
            "|   01/09/2019|         05/09/2019|\n",
            "|   01/09/2019|         30/11/2019|\n",
            "|   01/09/2019|         03/09/2019|\n",
            "|   01/09/2019|         14/09/2019|\n",
            "|   01/09/2019|         30/09/2019|\n",
            "|   01/09/2019|         05/09/2019|\n",
            "|   01/09/2019|         04/09/2019|\n",
            "|   01/09/2019|         19/09/2019|\n",
            "|   01/09/2019|         03/09/2019|\n",
            "|   01/09/2019|         14/09/2019|\n",
            "|   01/09/2019|         02/09/2019|\n",
            "|   01/09/2019|         30/09/2019|\n",
            "|   01/09/2019|         03/09/2019|\n",
            "+-------------+-------------------+\n",
            "only showing top 20 rows\n",
            "\n"
          ],
          "name": "stdout"
        }
      ]
    },
    {
      "cell_type": "code",
      "metadata": {
        "id": "HPpSc2EUiHlz"
      },
      "source": [
        "media_internacao = spark.sql('select DT_INTERNACAO, DT_SAIDA_INTERNACAO from  df2')"
      ],
      "execution_count": 47,
      "outputs": []
    },
    {
      "cell_type": "code",
      "metadata": {
        "colab": {
          "base_uri": "https://localhost:8080/"
        },
        "id": "1fQeivN2lRhU",
        "outputId": "979deab2-170a-49a2-e319-4731179863b0"
      },
      "source": [
        "media_internacao.select(F.mean(datediff(to_date(\"DT_SAIDA_INTERNACAO\", 'dd/MM/yyyy'), to_date(\"DT_INTERNACAO\",'dd/MM/yyyy')))\\\n",
        "                        .alias(\"Média\"))\\\n",
        "                        .show()"
      ],
      "execution_count": 68,
      "outputs": [
        {
          "output_type": "stream",
          "text": [
            "+-----------------+\n",
            "|            Média|\n",
            "+-----------------+\n",
            "|3.124821276633071|\n",
            "+-----------------+\n",
            "\n"
          ],
          "name": "stdout"
        }
      ]
    },
    {
      "cell_type": "code",
      "metadata": {
        "id": "Pqnza6MjIrXu"
      },
      "source": [
        ""
      ],
      "execution_count": null,
      "outputs": []
    }
  ]
}