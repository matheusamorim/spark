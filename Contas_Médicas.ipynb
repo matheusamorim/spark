{
  "nbformat": 4,
  "nbformat_minor": 0,
  "metadata": {
    "colab": {
      "name": "Contas Médicas.ipynb",
      "provenance": [],
      "mount_file_id": "1e_rmufqIymN5tHw7N6rk5UHkwyC6XVaY",
      "authorship_tag": "ABX9TyN0h8S73NddhInTEj9oojFW"
    },
    "kernelspec": {
      "name": "python3",
      "display_name": "Python 3"
    }
  },
  "cells": [
    {
      "cell_type": "code",
      "metadata": {
        "id": "TJdv33QHUelP"
      },
      "source": [
        "!apt-get install openjdk-8-jdk-headless -qq > /dev/null"
      ],
      "execution_count": 7,
      "outputs": []
    },
    {
      "cell_type": "code",
      "metadata": {
        "id": "nPMCPu5rE3u2"
      },
      "source": [
        "!wget https://downloads.apache.org/spark/spark-3.0.1/spark-3.0.1-bin-hadoop2.7.tgz"
      ],
      "execution_count": null,
      "outputs": []
    },
    {
      "cell_type": "code",
      "metadata": {
        "id": "AsxMrmtME6sR"
      },
      "source": [
        "!tar xf spark-3.0.1-bin-hadoop2.7.tgz"
      ],
      "execution_count": 10,
      "outputs": []
    },
    {
      "cell_type": "code",
      "metadata": {
        "id": "S-YBfhugE90y"
      },
      "source": [
        "!pip install -q findspark"
      ],
      "execution_count": 11,
      "outputs": []
    },
    {
      "cell_type": "code",
      "metadata": {
        "id": "PjhFQFsAFACA"
      },
      "source": [
        "!pip install -q pyspark"
      ],
      "execution_count": 12,
      "outputs": []
    },
    {
      "cell_type": "code",
      "metadata": {
        "id": "KvLhFhknUtcU"
      },
      "source": [
        "import os\n",
        "os.environ[\"JAVA_HOME\"] = \"/usr/lib/jvm/java-8-openjdk-amd64\"\n",
        "os.environ[\"SPARK_HOME\"] = \"/content/spark-3.0.1-bin-hadoop2.7\""
      ],
      "execution_count": 13,
      "outputs": []
    },
    {
      "cell_type": "code",
      "metadata": {
        "id": "b4pVtIHAFLhZ"
      },
      "source": [
        "import findspark\n",
        "findspark.init()\n",
        "from pyspark.sql import SparkSession\n",
        "spark = SparkSession.builder.master(\"local[*]\").getOrCreate()"
      ],
      "execution_count": 16,
      "outputs": []
    },
    {
      "cell_type": "code",
      "metadata": {
        "id": "ANK49Qm2F8ld"
      },
      "source": [
        "spark #verificar se há o objeto spark "
      ],
      "execution_count": null,
      "outputs": []
    },
    {
      "cell_type": "code",
      "metadata": {
        "id": "eOpirPNnHnrv"
      },
      "source": [
        "df = spark.read.csv(\"/content/drive/My Drive/dados/GO AMB/2019_det_amb.csv\", header=True, sep=\",\")\n"
      ],
      "execution_count": 18,
      "outputs": []
    },
    {
      "cell_type": "code",
      "metadata": {
        "id": "gXxQkDm1Akcu"
      },
      "source": [
        "from pyspark.sql import functions as F\n",
        "from pyspark.sql.types import FloatType\n"
      ],
      "execution_count": 19,
      "outputs": []
    },
    {
      "cell_type": "code",
      "metadata": {
        "id": "2OUz2aeuAqKx"
      },
      "source": [
        "def to_value(v):\n",
        "    try:\n",
        "        return float(v.replace(\",\",\".\"))\n",
        "    except ValueError:\n",
        "        return 0.0\n",
        "udf_to_value = F.udf(to_value, FloatType())"
      ],
      "execution_count": 20,
      "outputs": []
    },
    {
      "cell_type": "code",
      "metadata": {
        "id": "78t1FVljAswl"
      },
      "source": [
        "dfmod= df.withColumn('VL_PROCEDIMENTO', udf_to_value(df[\"VL_PROCEDIMENTO\"]))\\\n",
        "   .withColumn('QT_PROCEDIMENTO', udf_to_value(df[\"QT_PROCEDIMENTO\"]))"
      ],
      "execution_count": 21,
      "outputs": []
    },
    {
      "cell_type": "code",
      "metadata": {
        "id": "H8tFJ3QxAt8W",
        "outputId": "f694f2e8-ed98-4f0a-cb24-a4b293e494fa",
        "colab": {
          "base_uri": "https://localhost:8080/",
          "height": 359
        }
      },
      "source": [
        "dfmod.select('CD_TUSS_PROCEDIMENTO', 'VL_PROCEDIMENTO').limi t(10).toPandas()"
      ],
      "execution_count": 22,
      "outputs": [
        {
          "output_type": "execute_result",
          "data": {
            "text/html": [
              "<div>\n",
              "<style scoped>\n",
              "    .dataframe tbody tr th:only-of-type {\n",
              "        vertical-align: middle;\n",
              "    }\n",
              "\n",
              "    .dataframe tbody tr th {\n",
              "        vertical-align: top;\n",
              "    }\n",
              "\n",
              "    .dataframe thead th {\n",
              "        text-align: right;\n",
              "    }\n",
              "</style>\n",
              "<table border=\"1\" class=\"dataframe\">\n",
              "  <thead>\n",
              "    <tr style=\"text-align: right;\">\n",
              "      <th></th>\n",
              "      <th>CD_TUSS_PROCEDIMENTO</th>\n",
              "      <th>VL_PROCEDIMENTO</th>\n",
              "    </tr>\n",
              "  </thead>\n",
              "  <tbody>\n",
              "    <tr>\n",
              "      <th>0</th>\n",
              "      <td>029</td>\n",
              "      <td>2.670000</td>\n",
              "    </tr>\n",
              "    <tr>\n",
              "      <th>1</th>\n",
              "      <td>031</td>\n",
              "      <td>37.619999</td>\n",
              "    </tr>\n",
              "    <tr>\n",
              "      <th>2</th>\n",
              "      <td>10101039</td>\n",
              "      <td>95.000000</td>\n",
              "    </tr>\n",
              "    <tr>\n",
              "      <th>3</th>\n",
              "      <td>40304361</td>\n",
              "      <td>7.800000</td>\n",
              "    </tr>\n",
              "    <tr>\n",
              "      <th>4</th>\n",
              "      <td>004</td>\n",
              "      <td>25.280001</td>\n",
              "    </tr>\n",
              "    <tr>\n",
              "      <th>5</th>\n",
              "      <td>029</td>\n",
              "      <td>4.530000</td>\n",
              "    </tr>\n",
              "    <tr>\n",
              "      <th>6</th>\n",
              "      <td>030</td>\n",
              "      <td>39.049999</td>\n",
              "    </tr>\n",
              "    <tr>\n",
              "      <th>7</th>\n",
              "      <td>031</td>\n",
              "      <td>30.000000</td>\n",
              "    </tr>\n",
              "    <tr>\n",
              "      <th>8</th>\n",
              "      <td>029</td>\n",
              "      <td>20.940001</td>\n",
              "    </tr>\n",
              "    <tr>\n",
              "      <th>9</th>\n",
              "      <td>031</td>\n",
              "      <td>223.979996</td>\n",
              "    </tr>\n",
              "  </tbody>\n",
              "</table>\n",
              "</div>"
            ],
            "text/plain": [
              "  CD_TUSS_PROCEDIMENTO  VL_PROCEDIMENTO\n",
              "0                  029         2.670000\n",
              "1                  031        37.619999\n",
              "2             10101039        95.000000\n",
              "3             40304361         7.800000\n",
              "4                  004        25.280001\n",
              "5                  029         4.530000\n",
              "6                  030        39.049999\n",
              "7                  031        30.000000\n",
              "8                  029        20.940001\n",
              "9                  031       223.979996"
            ]
          },
          "metadata": {
            "tags": []
          },
          "execution_count": 22
        }
      ]
    },
    {
      "cell_type": "code",
      "metadata": {
        "id": "WI3chfxnAxWP"
      },
      "source": [
        "dfmod.groupBy(\"CD_TUSS_PROCEDIMENTO\")\\\n",
        "    .agg(F.sum(\"VL_PROCEDIMENTO\").alias(\"Total\"))\\\n",
        "    .orderBy(\"VL_PROCEDIMENTO\", ascending=False)\\\n",
        "    .toPandas()"
      ],
      "execution_count": null,
      "outputs": []
    },
    {
      "cell_type": "code",
      "metadata": {
        "id": "gRZbsNMDJu_e",
        "outputId": "e61cb142-0aa9-4f69-9913-b36d2e69f337",
        "colab": {
          "base_uri": "https://localhost:8080/"
        }
      },
      "source": [
        "dfmod.printSchema()"
      ],
      "execution_count": 26,
      "outputs": [
        {
          "output_type": "stream",
          "text": [
            "root\n",
            " |-- ID_EVENTO: string (nullable = true)\n",
            " |-- CD_TUSS_PROCEDIMENTO: string (nullable = true)\n",
            " |-- QT_PROCEDIMENTO: float (nullable = true)\n",
            " |-- VL_PROCEDIMENTO: float (nullable = true)\n",
            " |-- VL_PAGO_FORNECEDOR: string (nullable = true)\n",
            " |-- CD_TABELA_REFERENCIA: string (nullable = true)\n",
            " |-- LG_PACOTE: string (nullable = true)\n",
            " |-- IND_TABELA_PROPRIA: string (nullable = true)\n",
            " |-- DT_REALIZACAO: string (nullable = true)\n",
            " |-- UF_PRESTADOR: string (nullable = true)\n",
            " |-- LG_OUTLIER: string (nullable = true)\n",
            "\n"
          ],
          "name": "stdout"
        }
      ]
    },
    {
      "cell_type": "code",
      "metadata": {
        "id": "nIGeVcTxAzSu"
      },
      "source": [
        ""
      ],
      "execution_count": null,
      "outputs": []
    }
  ]
}