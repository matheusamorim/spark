{
  "nbformat": 4,
  "nbformat_minor": 0,
  "metadata": {
    "colab": {
      "name": "Contas Médicas.ipynb",
      "provenance": [],
      "mount_file_id": "1e_rmufqIymN5tHw7N6rk5UHkwyC6XVaY",
      "authorship_tag": "ABX9TyMHdPTIN/PI7m6AVVqnpxer",
      "include_colab_link": true
    },
    "kernelspec": {
      "name": "python3",
      "display_name": "Python 3"
    }
  },
  "cells": [
    {
      "cell_type": "markdown",
      "metadata": {
        "id": "view-in-github",
        "colab_type": "text"
      },
      "source": [
        "<a href=\"https://colab.research.google.com/github/matheusamorim/spark/blob/main/Contas_M%C3%A9dicas.ipynb\" target=\"_parent\"><img src=\"https://colab.research.google.com/assets/colab-badge.svg\" alt=\"Open In Colab\"/></a>"
      ]
    },
    {
      "cell_type": "code",
      "metadata": {
        "id": "TJdv33QHUelP"
      },
      "source": [
        "!apt-get install openjdk-8-jdk-headless -qq > /dev/null\n",
        "!wget https://downloads.apache.org/spark/spark-3.0.1/spark-3.0.1-bin-hadoop2.7.tgz\n",
        "!tar xf spark-3.0.1-bin-hadoop2.7.tgz\n",
        "!pip install -q findspark\n",
        "!pip install -q pyspark"
      ],
      "execution_count": null,
      "outputs": []
    },
    {
      "cell_type": "code",
      "metadata": {
        "id": "KvLhFhknUtcU"
      },
      "source": [
        "import os\n",
        "os.environ[\"JAVA_HOME\"] = \"/usr/lib/jvm/java-8-openjdk-amd64\"\n",
        "os.environ[\"SPARK_HOME\"] = \"/content/spark-3.0.1-bin-hadoop2.7\""
      ],
      "execution_count": 4,
      "outputs": []
    },
    {
      "cell_type": "code",
      "metadata": {
        "id": "b4pVtIHAFLhZ"
      },
      "source": [
        "import findspark\n",
        "findspark.init()\n",
        "from pyspark.sql import SparkSession\n",
        "spark = SparkSession.builder.master(\"local[*]\").getOrCreate()"
      ],
      "execution_count": 5,
      "outputs": []
    },
    {
      "cell_type": "code",
      "metadata": {
        "id": "ANK49Qm2F8ld"
      },
      "source": [
        "spark #verificar se há o objeto spark "
      ],
      "execution_count": null,
      "outputs": []
    },
    {
      "cell_type": "code",
      "metadata": {
        "id": "eOpirPNnHnrv"
      },
      "source": [
        "df = spark.read.csv(\"/content/drive/My Drive/dados/GO AMB/2019_det_amb.csv\", header=True, sep=\",\")\n"
      ],
      "execution_count": 7,
      "outputs": []
    },
    {
      "cell_type": "code",
      "metadata": {
        "id": "gXxQkDm1Akcu"
      },
      "source": [
        "import pandas as pd\n",
        "from pyspark.sql import functions as F\n",
        "from pyspark.sql.types import FloatType\n"
      ],
      "execution_count": 9,
      "outputs": []
    },
    {
      "cell_type": "code",
      "metadata": {
        "id": "2OUz2aeuAqKx"
      },
      "source": [
        "def to_value(v):\n",
        "    try:\n",
        "        return float(v.replace(\",\",\".\"))\n",
        "    except:\n",
        "        return 0.0\n",
        "udf_to_value = F.udf(to_value, FloatType())"
      ],
      "execution_count": 46,
      "outputs": []
    },
    {
      "cell_type": "code",
      "metadata": {
        "id": "78t1FVljAswl"
      },
      "source": [
        "df= df.withColumn('VL_PROCEDIMENTO', udf_to_value(df[\"VL_PROCEDIMENTO\"]))\\\n",
        "   .withColumn('QT_PROCEDIMENTO', udf_to_value(df[\"QT_PROCEDIMENTO\"]))"
      ],
      "execution_count": 47,
      "outputs": []
    },
    {
      "cell_type": "code",
      "metadata": {
        "id": "wgG7bxbYiAe_"
      },
      "source": [
        "df.filter('VL_PROCEDIMENTO > \"200.0\"').show()"
      ],
      "execution_count": null,
      "outputs": []
    },
    {
      "cell_type": "code",
      "metadata": {
        "id": "nIGeVcTxAzSu",
        "outputId": "6f677644-f827-4823-fe85-d4ff3055e11c",
        "colab": {
          "base_uri": "https://localhost:8080/"
        }
      },
      "source": [
        "df.printSchema()"
      ],
      "execution_count": 39,
      "outputs": [
        {
          "output_type": "stream",
          "text": [
            "root\n",
            " |-- ID_EVENTO: string (nullable = true)\n",
            " |-- CD_TUSS_PROCEDIMENTO: string (nullable = true)\n",
            " |-- QT_PROCEDIMENTO: float (nullable = true)\n",
            " |-- VL_PROCEDIMENTO: float (nullable = true)\n",
            " |-- VL_PAGO_FORNECEDOR: string (nullable = true)\n",
            " |-- CD_TABELA_REFERENCIA: string (nullable = true)\n",
            " |-- LG_PACOTE: string (nullable = true)\n",
            " |-- IND_TABELA_PROPRIA: string (nullable = true)\n",
            " |-- DT_REALIZACAO: string (nullable = true)\n",
            " |-- UF_PRESTADOR: string (nullable = true)\n",
            " |-- LG_OUTLIER: string (nullable = true)\n",
            "\n"
          ],
          "name": "stdout"
        }
      ]
    }
  ]
}