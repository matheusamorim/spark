{
  "nbformat": 4,
  "nbformat_minor": 0,
  "metadata": {
    "colab": {
      "name": "Contas Médicas.ipynb",
      "provenance": [],
      "include_colab_link": true
    },
    "kernelspec": {
      "name": "python3",
      "display_name": "Python 3"
    }
  },
  "cells": [
    {
      "cell_type": "markdown",
      "metadata": {
        "id": "view-in-github",
        "colab_type": "text"
      },
      "source": [
        "<a href=\"https://colab.research.google.com/github/matheusamorim/spark/blob/main/Contas_M%C3%A9dicas.ipynb\" target=\"_parent\"><img src=\"https://colab.research.google.com/assets/colab-badge.svg\" alt=\"Open In Colab\"/></a>"
      ]
    },
    {
      "cell_type": "code",
      "metadata": {
        "id": "TJdv33QHUelP",
        "outputId": "943d45ff-93cc-4ece-c4bc-58611a355bfb",
        "colab": {
          "base_uri": "https://localhost:8080/"
        }
      },
      "source": [
        "!apt-get install openjdk-8-jdk-headless -qq > /dev/null\n",
        "!wget https://downloads.apache.org/spark/spark-3.3.0/spark-3.3.0-bin-hadoop3.tgz\n",
        "!tar xf spark-3.3.0-bin-hadoop3.tgz\n",
        "!pip install -q findspark\n",
        "!pip install -q pyspark"
      ],
      "execution_count": 1,
      "outputs": [
        {
          "output_type": "stream",
          "name": "stdout",
          "text": [
            "--2022-07-06 00:46:27--  https://downloads.apache.org/spark/spark-3.3.0/spark-3.3.0-bin-hadoop3.tgz\n",
            "Resolving downloads.apache.org (downloads.apache.org)... 135.181.214.104, 88.99.95.219, 2a01:4f8:10a:201a::2, ...\n",
            "Connecting to downloads.apache.org (downloads.apache.org)|135.181.214.104|:443... connected.\n",
            "HTTP request sent, awaiting response... 200 OK\n",
            "Length: 299321244 (285M) [application/x-gzip]\n",
            "Saving to: ‘spark-3.3.0-bin-hadoop3.tgz’\n",
            "\n",
            "spark-3.3.0-bin-had 100%[===================>] 285.45M  28.3MB/s    in 11s     \n",
            "\n",
            "2022-07-06 00:46:39 (26.3 MB/s) - ‘spark-3.3.0-bin-hadoop3.tgz’ saved [299321244/299321244]\n",
            "\n",
            "\u001b[K     |████████████████████████████████| 281.3 MB 48 kB/s \n",
            "\u001b[33mWARNING: Retrying (Retry(total=4, connect=None, read=None, redirect=None, status=None)) after connection broken by 'ProtocolError('Connection aborted.', ConnectionResetError(104, 'Connection reset by peer'))': /simple/py4j/\u001b[0m\n",
            "\u001b[33m  WARNING: Retrying (Retry(total=4, connect=None, read=None, redirect=None, status=None)) after connection broken by 'ProtocolError('Connection aborted.', ConnectionResetError(104, 'Connection reset by peer'))': /packages/86/ec/60880978512d5569ca4bf32b3b4d7776a528ecf4bca4523936c98c92a3c8/py4j-0.10.9.5-py2.py3-none-any.whl\u001b[0m\n",
            "\u001b[K     |████████████████████████████████| 199 kB 19.8 MB/s \n",
            "\u001b[?25h  Building wheel for pyspark (setup.py) ... \u001b[?25l\u001b[?25hdone\n"
          ]
        }
      ]
    },
    {
      "cell_type": "code",
      "source": [
        "from google.colab import drive\n",
        "drive.mount('/content/drive')"
      ],
      "metadata": {
        "id": "_7d5Knln9VW1",
        "outputId": "6b6a22a6-0a3a-4ced-9e30-0e10dc5b4377",
        "colab": {
          "base_uri": "https://localhost:8080/"
        }
      },
      "execution_count": 2,
      "outputs": [
        {
          "output_type": "stream",
          "name": "stdout",
          "text": [
            "Mounted at /content/drive\n"
          ]
        }
      ]
    },
    {
      "cell_type": "code",
      "metadata": {
        "id": "KvLhFhknUtcU"
      },
      "source": [
        "import os\n",
        "os.environ[\"JAVA_HOME\"] = \"/usr/lib/jvm/java-8-openjdk-amd64\"\n",
        "os.environ[\"SPARK_HOME\"] = \"/content/spark-3.3.0-bin-hadoop3\""
      ],
      "execution_count": 11,
      "outputs": []
    },
    {
      "cell_type": "code",
      "metadata": {
        "id": "b4pVtIHAFLhZ"
      },
      "source": [
        "import findspark\n",
        "findspark.init()\n",
        "from pyspark.sql import SparkSession\n",
        "spark = SparkSession.builder.master(\"local[*]\").getOrCreate()"
      ],
      "execution_count": 13,
      "outputs": []
    },
    {
      "cell_type": "code",
      "metadata": {
        "id": "eOpirPNnHnrv"
      },
      "source": [
        "df = spark.read.csv(\"/content/drive/MyDrive/SIM 2017/DOEXT17.csv\", header=True, sep=\",\")\n"
      ],
      "execution_count": 14,
      "outputs": []
    },
    {
      "cell_type": "code",
      "source": [
        "df.summary"
      ],
      "metadata": {
        "id": "g4J4TIzg98eI",
        "outputId": "d3ba29b5-ca2d-4acf-e6a6-a15cd8fb41ad",
        "colab": {
          "base_uri": "https://localhost:8080/"
        }
      },
      "execution_count": 15,
      "outputs": [
        {
          "output_type": "execute_result",
          "data": {
            "text/plain": [
              "<bound method DataFrame.summary of DataFrame[NUMERODO: string, CODINST: string, NUMERODV: string, ORIGEM: string, TIPOBITO: string, DTOBITO: string, HORAOBITO: string, NUMSUS: string, NATURAL: string, CODMUNNATU: string, DTNASC: string, IDADE: string, SEXO: string, RACACOR: string, ESTCIV: string, ESC: string, ESC2010: string, SERIESCFAL: string, OCUP: string, CODMUNRES: string, LOCOCOR: string, CODESTAB: string, ESTABDESCR: string, CODMUNOCOR: string, IDADEMAE: string, ESCMAE: string, ESCMAE2010: string, SERIESCMAE: string, OCUPMAE: string, QTDFILVIVO: string, QTDFILMORT: string, GRAVIDEZ: string, SEMAGESTAC: string, GESTACAO: string, PARTO: string, OBITOPARTO: string, PESO: string, NUMERODN: string, TPMORTEOCO: string, OBITOGRAV: string, OBITOPUERP: string, ASSISTMED: string, EXAME: string, CIRURGIA: string, NECROPSIA: string, LINHAA: string, LINHAB: string, LINHAC: string, LINHAD: string, LINHAII: string, CAUSABAS: string, CB_PRE: string, CRM: string, COMUNSVOIM: string, DTATESTADO: string, CIRCOBITO: string, ACIDTRAB: string, FONTE: string, NUMEROLOTE: string, TPPOS: string, DTINVESTIG: string, CAUSABAS_O: string, DTCADASTRO: string, ATESTANTE: string, STCODIFICA: string, CODIFICADO: string, VERSAOSIST: string, VERSAOSCB: string, FONTEINV: string, DTRECEBIM: string, ATESTADO: string, DTRECORIGA: string, CAUSAMAT: string, ESCMAEAGR1: string, ESCFALAGR1: string, STDOEPIDEM: string, STDONOVA: string, DIFDATA: string, NUDIASOBCO: string, NUDIASOBIN: string, DTCADINV: string, TPOBITOCOR: string, DTCONINV: string, FONTES: string, TPRESGINFO: string, TPNIVELINV: string, NUDIASINF: string, DTCADINF: string, MORTEPARTO: string, DTCONCASO: string, FONTESINF: string, ALTCAUSA: string]>"
            ]
          },
          "metadata": {},
          "execution_count": 15
        }
      ]
    },
    {
      "cell_type": "code",
      "metadata": {
        "id": "gXxQkDm1Akcu"
      },
      "source": [
        "import pandas as pd\n",
        "from pyspark.sql import functions as F\n",
        "from pyspark.sql.types import FloatType\n"
      ],
      "execution_count": 16,
      "outputs": []
    },
    {
      "cell_type": "code",
      "metadata": {
        "id": "2OUz2aeuAqKx",
        "outputId": "816d3512-2108-4445-bc24-fae482b5bc6e",
        "colab": {
          "base_uri": "https://localhost:8080/",
          "height": 364
        }
      },
      "source": [
        "result = spark.sql(\"select * from \")\n",
        "result"
      ],
      "execution_count": 17,
      "outputs": [
        {
          "output_type": "error",
          "ename": "AnalysisException",
          "evalue": "ignored",
          "traceback": [
            "\u001b[0;31m---------------------------------------------------------------------------\u001b[0m",
            "\u001b[0;31mAnalysisException\u001b[0m                         Traceback (most recent call last)",
            "\u001b[0;32m<ipython-input-17-048db2103e45>\u001b[0m in \u001b[0;36m<module>\u001b[0;34m()\u001b[0m\n\u001b[0;32m----> 1\u001b[0;31m \u001b[0mresult\u001b[0m \u001b[0;34m=\u001b[0m \u001b[0mspark\u001b[0m\u001b[0;34m.\u001b[0m\u001b[0msql\u001b[0m\u001b[0;34m(\u001b[0m\u001b[0;34m\"select * from df\"\u001b[0m\u001b[0;34m)\u001b[0m\u001b[0;34m\u001b[0m\u001b[0;34m\u001b[0m\u001b[0m\n\u001b[0m\u001b[1;32m      2\u001b[0m \u001b[0mresult\u001b[0m\u001b[0;34m\u001b[0m\u001b[0;34m\u001b[0m\u001b[0m\n",
            "\u001b[0;32m/content/spark-3.3.0-bin-hadoop3/python/pyspark/sql/session.py\u001b[0m in \u001b[0;36msql\u001b[0;34m(self, sqlQuery, **kwargs)\u001b[0m\n\u001b[1;32m   1032\u001b[0m             \u001b[0msqlQuery\u001b[0m \u001b[0;34m=\u001b[0m \u001b[0mformatter\u001b[0m\u001b[0;34m.\u001b[0m\u001b[0mformat\u001b[0m\u001b[0;34m(\u001b[0m\u001b[0msqlQuery\u001b[0m\u001b[0;34m,\u001b[0m \u001b[0;34m**\u001b[0m\u001b[0mkwargs\u001b[0m\u001b[0;34m)\u001b[0m\u001b[0;34m\u001b[0m\u001b[0;34m\u001b[0m\u001b[0m\n\u001b[1;32m   1033\u001b[0m         \u001b[0;32mtry\u001b[0m\u001b[0;34m:\u001b[0m\u001b[0;34m\u001b[0m\u001b[0;34m\u001b[0m\u001b[0m\n\u001b[0;32m-> 1034\u001b[0;31m             \u001b[0;32mreturn\u001b[0m \u001b[0mDataFrame\u001b[0m\u001b[0;34m(\u001b[0m\u001b[0mself\u001b[0m\u001b[0;34m.\u001b[0m\u001b[0m_jsparkSession\u001b[0m\u001b[0;34m.\u001b[0m\u001b[0msql\u001b[0m\u001b[0;34m(\u001b[0m\u001b[0msqlQuery\u001b[0m\u001b[0;34m)\u001b[0m\u001b[0;34m,\u001b[0m \u001b[0mself\u001b[0m\u001b[0;34m)\u001b[0m\u001b[0;34m\u001b[0m\u001b[0;34m\u001b[0m\u001b[0m\n\u001b[0m\u001b[1;32m   1035\u001b[0m         \u001b[0;32mfinally\u001b[0m\u001b[0;34m:\u001b[0m\u001b[0;34m\u001b[0m\u001b[0;34m\u001b[0m\u001b[0m\n\u001b[1;32m   1036\u001b[0m             \u001b[0;32mif\u001b[0m \u001b[0mlen\u001b[0m\u001b[0;34m(\u001b[0m\u001b[0mkwargs\u001b[0m\u001b[0;34m)\u001b[0m \u001b[0;34m>\u001b[0m \u001b[0;36m0\u001b[0m\u001b[0;34m:\u001b[0m\u001b[0;34m\u001b[0m\u001b[0;34m\u001b[0m\u001b[0m\n",
            "\u001b[0;32m/content/spark-3.3.0-bin-hadoop3/python/lib/py4j-0.10.9.5-src.zip/py4j/java_gateway.py\u001b[0m in \u001b[0;36m__call__\u001b[0;34m(self, *args)\u001b[0m\n\u001b[1;32m   1320\u001b[0m         \u001b[0manswer\u001b[0m \u001b[0;34m=\u001b[0m \u001b[0mself\u001b[0m\u001b[0;34m.\u001b[0m\u001b[0mgateway_client\u001b[0m\u001b[0;34m.\u001b[0m\u001b[0msend_command\u001b[0m\u001b[0;34m(\u001b[0m\u001b[0mcommand\u001b[0m\u001b[0;34m)\u001b[0m\u001b[0;34m\u001b[0m\u001b[0;34m\u001b[0m\u001b[0m\n\u001b[1;32m   1321\u001b[0m         return_value = get_return_value(\n\u001b[0;32m-> 1322\u001b[0;31m             answer, self.gateway_client, self.target_id, self.name)\n\u001b[0m\u001b[1;32m   1323\u001b[0m \u001b[0;34m\u001b[0m\u001b[0m\n\u001b[1;32m   1324\u001b[0m         \u001b[0;32mfor\u001b[0m \u001b[0mtemp_arg\u001b[0m \u001b[0;32min\u001b[0m \u001b[0mtemp_args\u001b[0m\u001b[0;34m:\u001b[0m\u001b[0;34m\u001b[0m\u001b[0;34m\u001b[0m\u001b[0m\n",
            "\u001b[0;32m/content/spark-3.3.0-bin-hadoop3/python/pyspark/sql/utils.py\u001b[0m in \u001b[0;36mdeco\u001b[0;34m(*a, **kw)\u001b[0m\n\u001b[1;32m    194\u001b[0m                 \u001b[0;31m# Hide where the exception came from that shows a non-Pythonic\u001b[0m\u001b[0;34m\u001b[0m\u001b[0;34m\u001b[0m\u001b[0;34m\u001b[0m\u001b[0m\n\u001b[1;32m    195\u001b[0m                 \u001b[0;31m# JVM exception message.\u001b[0m\u001b[0;34m\u001b[0m\u001b[0;34m\u001b[0m\u001b[0;34m\u001b[0m\u001b[0m\n\u001b[0;32m--> 196\u001b[0;31m                 \u001b[0;32mraise\u001b[0m \u001b[0mconverted\u001b[0m \u001b[0;32mfrom\u001b[0m \u001b[0;32mNone\u001b[0m\u001b[0;34m\u001b[0m\u001b[0;34m\u001b[0m\u001b[0m\n\u001b[0m\u001b[1;32m    197\u001b[0m             \u001b[0;32melse\u001b[0m\u001b[0;34m:\u001b[0m\u001b[0;34m\u001b[0m\u001b[0;34m\u001b[0m\u001b[0m\n\u001b[1;32m    198\u001b[0m                 \u001b[0;32mraise\u001b[0m\u001b[0;34m\u001b[0m\u001b[0;34m\u001b[0m\u001b[0m\n",
            "\u001b[0;31mAnalysisException\u001b[0m: Table or view not found: df; line 1 pos 14;\n'Project [*]\n+- 'UnresolvedRelation [df], [], false\n"
          ]
        }
      ]
    },
    {
      "cell_type": "code",
      "source": [
        "df.select"
      ],
      "metadata": {
        "id": "iPIodsNQBUr4",
        "outputId": "a629b18d-cd1b-4632-80f5-fff5601344de",
        "colab": {
          "base_uri": "https://localhost:8080/"
        }
      },
      "execution_count": 19,
      "outputs": [
        {
          "output_type": "execute_result",
          "data": {
            "text/plain": [
              "<bound method DataFrame.select of DataFrame[NUMERODO: string, CODINST: string, NUMERODV: string, ORIGEM: string, TIPOBITO: string, DTOBITO: string, HORAOBITO: string, NUMSUS: string, NATURAL: string, CODMUNNATU: string, DTNASC: string, IDADE: string, SEXO: string, RACACOR: string, ESTCIV: string, ESC: string, ESC2010: string, SERIESCFAL: string, OCUP: string, CODMUNRES: string, LOCOCOR: string, CODESTAB: string, ESTABDESCR: string, CODMUNOCOR: string, IDADEMAE: string, ESCMAE: string, ESCMAE2010: string, SERIESCMAE: string, OCUPMAE: string, QTDFILVIVO: string, QTDFILMORT: string, GRAVIDEZ: string, SEMAGESTAC: string, GESTACAO: string, PARTO: string, OBITOPARTO: string, PESO: string, NUMERODN: string, TPMORTEOCO: string, OBITOGRAV: string, OBITOPUERP: string, ASSISTMED: string, EXAME: string, CIRURGIA: string, NECROPSIA: string, LINHAA: string, LINHAB: string, LINHAC: string, LINHAD: string, LINHAII: string, CAUSABAS: string, CB_PRE: string, CRM: string, COMUNSVOIM: string, DTATESTADO: string, CIRCOBITO: string, ACIDTRAB: string, FONTE: string, NUMEROLOTE: string, TPPOS: string, DTINVESTIG: string, CAUSABAS_O: string, DTCADASTRO: string, ATESTANTE: string, STCODIFICA: string, CODIFICADO: string, VERSAOSIST: string, VERSAOSCB: string, FONTEINV: string, DTRECEBIM: string, ATESTADO: string, DTRECORIGA: string, CAUSAMAT: string, ESCMAEAGR1: string, ESCFALAGR1: string, STDOEPIDEM: string, STDONOVA: string, DIFDATA: string, NUDIASOBCO: string, NUDIASOBIN: string, DTCADINV: string, TPOBITOCOR: string, DTCONINV: string, FONTES: string, TPRESGINFO: string, TPNIVELINV: string, NUDIASINF: string, DTCADINF: string, MORTEPARTO: string, DTCONCASO: string, FONTESINF: string, ALTCAUSA: string]>"
            ]
          },
          "metadata": {},
          "execution_count": 19
        }
      ]
    }
  ]
}